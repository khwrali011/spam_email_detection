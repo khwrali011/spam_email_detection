{
  "cells": [
    {
      "cell_type": "code",
      "execution_count": 1,
      "id": "444dcf79",
      "metadata": {
        "execution": {
          "iopub.execute_input": "2022-09-23T14:31:45.313272Z",
          "iopub.status.busy": "2022-09-23T14:31:45.312859Z",
          "iopub.status.idle": "2022-09-23T14:31:46.566099Z",
          "shell.execute_reply": "2022-09-23T14:31:46.564939Z"
        },
        "papermill": {
          "duration": 1.262827,
          "end_time": "2022-09-23T14:31:46.568932",
          "exception": false,
          "start_time": "2022-09-23T14:31:45.306105",
          "status": "completed"
        },
        "tags": [],
        "id": "444dcf79"
      },
      "outputs": [],
      "source": [
        "import pandas as pd\n",
        "import numpy as np\n",
        "import seaborn as sb\n",
        "import matplotlib.pyplot as plt\n",
        "from warnings import filterwarnings\n",
        "filterwarnings(\"ignore\")"
      ]
    },
    {
      "cell_type": "code",
      "source": [
        "!pip install opendatasets -q"
      ],
      "metadata": {
        "id": "YxbqBwkFODaB"
      },
      "id": "YxbqBwkFODaB",
      "execution_count": 2,
      "outputs": []
    },
    {
      "cell_type": "code",
      "execution_count": 3,
      "id": "c63cc5d6",
      "metadata": {
        "execution": {
          "iopub.execute_input": "2022-09-23T14:31:46.592216Z",
          "iopub.status.busy": "2022-09-23T14:31:46.591264Z",
          "iopub.status.idle": "2022-09-23T14:31:46.824440Z",
          "shell.execute_reply": "2022-09-23T14:31:46.823129Z"
        },
        "papermill": {
          "duration": 0.242737,
          "end_time": "2022-09-23T14:31:46.827166",
          "exception": false,
          "start_time": "2022-09-23T14:31:46.584429",
          "status": "completed"
        },
        "tags": [],
        "colab": {
          "base_uri": "https://localhost:8080/"
        },
        "id": "c63cc5d6",
        "outputId": "62cc8032-291d-4a7d-cf46-02c05b42bd14"
      },
      "outputs": [
        {
          "output_type": "stream",
          "name": "stdout",
          "text": [
            "Please provide your Kaggle credentials to download this dataset. Learn more: http://bit.ly/kaggle-creds\n",
            "Your Kaggle username: khwrali\n",
            "Your Kaggle Key: ··········\n",
            "Downloading spam-filter.zip to ./spam-filter\n"
          ]
        },
        {
          "output_type": "stream",
          "name": "stderr",
          "text": [
            "100%|██████████| 2.86M/2.86M [00:00<00:00, 50.4MB/s]"
          ]
        },
        {
          "output_type": "stream",
          "name": "stdout",
          "text": [
            "\n"
          ]
        },
        {
          "output_type": "stream",
          "name": "stderr",
          "text": [
            "\n"
          ]
        }
      ],
      "source": [
        "import opendatasets as od\n",
        "#{\"username\":\"khwrali\",\"key\":\"a2b23dfbac2443ab4db34e48318ce4ff\"}\n",
        "od.download(\"https://www.kaggle.com/datasets/karthickveerakumar/spam-filter\")"
      ]
    },
    {
      "cell_type": "code",
      "execution_count": 4,
      "id": "bac23bc6",
      "metadata": {
        "execution": {
          "iopub.execute_input": "2022-09-23T14:31:46.840670Z",
          "iopub.status.busy": "2022-09-23T14:31:46.839606Z",
          "iopub.status.idle": "2022-09-23T14:31:46.861502Z",
          "shell.execute_reply": "2022-09-23T14:31:46.860090Z"
        },
        "papermill": {
          "duration": 0.030818,
          "end_time": "2022-09-23T14:31:46.863582",
          "exception": false,
          "start_time": "2022-09-23T14:31:46.832764",
          "status": "completed"
        },
        "tags": [],
        "colab": {
          "base_uri": "https://localhost:8080/",
          "height": 206
        },
        "id": "bac23bc6",
        "outputId": "db889e90-dbd8-4169-bf32-48d33350cda4"
      },
      "outputs": [
        {
          "output_type": "execute_result",
          "data": {
            "text/plain": [
              "                                                text  spam\n",
              "0  Subject: naturally irresistible your corporate...     1\n",
              "1  Subject: the stock trading gunslinger  fanny i...     1\n",
              "2  Subject: unbelievable new homes made easy  im ...     1\n",
              "3  Subject: 4 color printing special  request add...     1\n",
              "4  Subject: do not have money , get software cds ...     1"
            ],
            "text/html": [
              "\n",
              "  <div id=\"df-49764e55-dd4d-4386-a40b-53a76532d968\" class=\"colab-df-container\">\n",
              "    <div>\n",
              "<style scoped>\n",
              "    .dataframe tbody tr th:only-of-type {\n",
              "        vertical-align: middle;\n",
              "    }\n",
              "\n",
              "    .dataframe tbody tr th {\n",
              "        vertical-align: top;\n",
              "    }\n",
              "\n",
              "    .dataframe thead th {\n",
              "        text-align: right;\n",
              "    }\n",
              "</style>\n",
              "<table border=\"1\" class=\"dataframe\">\n",
              "  <thead>\n",
              "    <tr style=\"text-align: right;\">\n",
              "      <th></th>\n",
              "      <th>text</th>\n",
              "      <th>spam</th>\n",
              "    </tr>\n",
              "  </thead>\n",
              "  <tbody>\n",
              "    <tr>\n",
              "      <th>0</th>\n",
              "      <td>Subject: naturally irresistible your corporate...</td>\n",
              "      <td>1</td>\n",
              "    </tr>\n",
              "    <tr>\n",
              "      <th>1</th>\n",
              "      <td>Subject: the stock trading gunslinger  fanny i...</td>\n",
              "      <td>1</td>\n",
              "    </tr>\n",
              "    <tr>\n",
              "      <th>2</th>\n",
              "      <td>Subject: unbelievable new homes made easy  im ...</td>\n",
              "      <td>1</td>\n",
              "    </tr>\n",
              "    <tr>\n",
              "      <th>3</th>\n",
              "      <td>Subject: 4 color printing special  request add...</td>\n",
              "      <td>1</td>\n",
              "    </tr>\n",
              "    <tr>\n",
              "      <th>4</th>\n",
              "      <td>Subject: do not have money , get software cds ...</td>\n",
              "      <td>1</td>\n",
              "    </tr>\n",
              "  </tbody>\n",
              "</table>\n",
              "</div>\n",
              "    <div class=\"colab-df-buttons\">\n",
              "\n",
              "  <div class=\"colab-df-container\">\n",
              "    <button class=\"colab-df-convert\" onclick=\"convertToInteractive('df-49764e55-dd4d-4386-a40b-53a76532d968')\"\n",
              "            title=\"Convert this dataframe to an interactive table.\"\n",
              "            style=\"display:none;\">\n",
              "\n",
              "  <svg xmlns=\"http://www.w3.org/2000/svg\" height=\"24px\" viewBox=\"0 -960 960 960\">\n",
              "    <path d=\"M120-120v-720h720v720H120Zm60-500h600v-160H180v160Zm220 220h160v-160H400v160Zm0 220h160v-160H400v160ZM180-400h160v-160H180v160Zm440 0h160v-160H620v160ZM180-180h160v-160H180v160Zm440 0h160v-160H620v160Z\"/>\n",
              "  </svg>\n",
              "    </button>\n",
              "\n",
              "  <style>\n",
              "    .colab-df-container {\n",
              "      display:flex;\n",
              "      gap: 12px;\n",
              "    }\n",
              "\n",
              "    .colab-df-convert {\n",
              "      background-color: #E8F0FE;\n",
              "      border: none;\n",
              "      border-radius: 50%;\n",
              "      cursor: pointer;\n",
              "      display: none;\n",
              "      fill: #1967D2;\n",
              "      height: 32px;\n",
              "      padding: 0 0 0 0;\n",
              "      width: 32px;\n",
              "    }\n",
              "\n",
              "    .colab-df-convert:hover {\n",
              "      background-color: #E2EBFA;\n",
              "      box-shadow: 0px 1px 2px rgba(60, 64, 67, 0.3), 0px 1px 3px 1px rgba(60, 64, 67, 0.15);\n",
              "      fill: #174EA6;\n",
              "    }\n",
              "\n",
              "    .colab-df-buttons div {\n",
              "      margin-bottom: 4px;\n",
              "    }\n",
              "\n",
              "    [theme=dark] .colab-df-convert {\n",
              "      background-color: #3B4455;\n",
              "      fill: #D2E3FC;\n",
              "    }\n",
              "\n",
              "    [theme=dark] .colab-df-convert:hover {\n",
              "      background-color: #434B5C;\n",
              "      box-shadow: 0px 1px 3px 1px rgba(0, 0, 0, 0.15);\n",
              "      filter: drop-shadow(0px 1px 2px rgba(0, 0, 0, 0.3));\n",
              "      fill: #FFFFFF;\n",
              "    }\n",
              "  </style>\n",
              "\n",
              "    <script>\n",
              "      const buttonEl =\n",
              "        document.querySelector('#df-49764e55-dd4d-4386-a40b-53a76532d968 button.colab-df-convert');\n",
              "      buttonEl.style.display =\n",
              "        google.colab.kernel.accessAllowed ? 'block' : 'none';\n",
              "\n",
              "      async function convertToInteractive(key) {\n",
              "        const element = document.querySelector('#df-49764e55-dd4d-4386-a40b-53a76532d968');\n",
              "        const dataTable =\n",
              "          await google.colab.kernel.invokeFunction('convertToInteractive',\n",
              "                                                    [key], {});\n",
              "        if (!dataTable) return;\n",
              "\n",
              "        const docLinkHtml = 'Like what you see? Visit the ' +\n",
              "          '<a target=\"_blank\" href=https://colab.research.google.com/notebooks/data_table.ipynb>data table notebook</a>'\n",
              "          + ' to learn more about interactive tables.';\n",
              "        element.innerHTML = '';\n",
              "        dataTable['output_type'] = 'display_data';\n",
              "        await google.colab.output.renderOutput(dataTable, element);\n",
              "        const docLink = document.createElement('div');\n",
              "        docLink.innerHTML = docLinkHtml;\n",
              "        element.appendChild(docLink);\n",
              "      }\n",
              "    </script>\n",
              "  </div>\n",
              "\n",
              "\n",
              "<div id=\"df-dc7ed8ce-b328-4340-9676-bd9905083db2\">\n",
              "  <button class=\"colab-df-quickchart\" onclick=\"quickchart('df-dc7ed8ce-b328-4340-9676-bd9905083db2')\"\n",
              "            title=\"Suggest charts\"\n",
              "            style=\"display:none;\">\n",
              "\n",
              "<svg xmlns=\"http://www.w3.org/2000/svg\" height=\"24px\"viewBox=\"0 0 24 24\"\n",
              "     width=\"24px\">\n",
              "    <g>\n",
              "        <path d=\"M19 3H5c-1.1 0-2 .9-2 2v14c0 1.1.9 2 2 2h14c1.1 0 2-.9 2-2V5c0-1.1-.9-2-2-2zM9 17H7v-7h2v7zm4 0h-2V7h2v10zm4 0h-2v-4h2v4z\"/>\n",
              "    </g>\n",
              "</svg>\n",
              "  </button>\n",
              "\n",
              "<style>\n",
              "  .colab-df-quickchart {\n",
              "      --bg-color: #E8F0FE;\n",
              "      --fill-color: #1967D2;\n",
              "      --hover-bg-color: #E2EBFA;\n",
              "      --hover-fill-color: #174EA6;\n",
              "      --disabled-fill-color: #AAA;\n",
              "      --disabled-bg-color: #DDD;\n",
              "  }\n",
              "\n",
              "  [theme=dark] .colab-df-quickchart {\n",
              "      --bg-color: #3B4455;\n",
              "      --fill-color: #D2E3FC;\n",
              "      --hover-bg-color: #434B5C;\n",
              "      --hover-fill-color: #FFFFFF;\n",
              "      --disabled-bg-color: #3B4455;\n",
              "      --disabled-fill-color: #666;\n",
              "  }\n",
              "\n",
              "  .colab-df-quickchart {\n",
              "    background-color: var(--bg-color);\n",
              "    border: none;\n",
              "    border-radius: 50%;\n",
              "    cursor: pointer;\n",
              "    display: none;\n",
              "    fill: var(--fill-color);\n",
              "    height: 32px;\n",
              "    padding: 0;\n",
              "    width: 32px;\n",
              "  }\n",
              "\n",
              "  .colab-df-quickchart:hover {\n",
              "    background-color: var(--hover-bg-color);\n",
              "    box-shadow: 0 1px 2px rgba(60, 64, 67, 0.3), 0 1px 3px 1px rgba(60, 64, 67, 0.15);\n",
              "    fill: var(--button-hover-fill-color);\n",
              "  }\n",
              "\n",
              "  .colab-df-quickchart-complete:disabled,\n",
              "  .colab-df-quickchart-complete:disabled:hover {\n",
              "    background-color: var(--disabled-bg-color);\n",
              "    fill: var(--disabled-fill-color);\n",
              "    box-shadow: none;\n",
              "  }\n",
              "\n",
              "  .colab-df-spinner {\n",
              "    border: 2px solid var(--fill-color);\n",
              "    border-color: transparent;\n",
              "    border-bottom-color: var(--fill-color);\n",
              "    animation:\n",
              "      spin 1s steps(1) infinite;\n",
              "  }\n",
              "\n",
              "  @keyframes spin {\n",
              "    0% {\n",
              "      border-color: transparent;\n",
              "      border-bottom-color: var(--fill-color);\n",
              "      border-left-color: var(--fill-color);\n",
              "    }\n",
              "    20% {\n",
              "      border-color: transparent;\n",
              "      border-left-color: var(--fill-color);\n",
              "      border-top-color: var(--fill-color);\n",
              "    }\n",
              "    30% {\n",
              "      border-color: transparent;\n",
              "      border-left-color: var(--fill-color);\n",
              "      border-top-color: var(--fill-color);\n",
              "      border-right-color: var(--fill-color);\n",
              "    }\n",
              "    40% {\n",
              "      border-color: transparent;\n",
              "      border-right-color: var(--fill-color);\n",
              "      border-top-color: var(--fill-color);\n",
              "    }\n",
              "    60% {\n",
              "      border-color: transparent;\n",
              "      border-right-color: var(--fill-color);\n",
              "    }\n",
              "    80% {\n",
              "      border-color: transparent;\n",
              "      border-right-color: var(--fill-color);\n",
              "      border-bottom-color: var(--fill-color);\n",
              "    }\n",
              "    90% {\n",
              "      border-color: transparent;\n",
              "      border-bottom-color: var(--fill-color);\n",
              "    }\n",
              "  }\n",
              "</style>\n",
              "\n",
              "  <script>\n",
              "    async function quickchart(key) {\n",
              "      const quickchartButtonEl =\n",
              "        document.querySelector('#' + key + ' button');\n",
              "      quickchartButtonEl.disabled = true;  // To prevent multiple clicks.\n",
              "      quickchartButtonEl.classList.add('colab-df-spinner');\n",
              "      try {\n",
              "        const charts = await google.colab.kernel.invokeFunction(\n",
              "            'suggestCharts', [key], {});\n",
              "      } catch (error) {\n",
              "        console.error('Error during call to suggestCharts:', error);\n",
              "      }\n",
              "      quickchartButtonEl.classList.remove('colab-df-spinner');\n",
              "      quickchartButtonEl.classList.add('colab-df-quickchart-complete');\n",
              "    }\n",
              "    (() => {\n",
              "      let quickchartButtonEl =\n",
              "        document.querySelector('#df-dc7ed8ce-b328-4340-9676-bd9905083db2 button');\n",
              "      quickchartButtonEl.style.display =\n",
              "        google.colab.kernel.accessAllowed ? 'block' : 'none';\n",
              "    })();\n",
              "  </script>\n",
              "</div>\n",
              "\n",
              "    </div>\n",
              "  </div>\n"
            ]
          },
          "metadata": {},
          "execution_count": 4
        }
      ],
      "source": [
        "data=pd.read_csv('/content/spam-filter/emails.csv')\n",
        "data.head()"
      ]
    },
    {
      "cell_type": "markdown",
      "source": [
        "#Pre-processing"
      ],
      "metadata": {
        "id": "P4csbj-Va19x"
      },
      "id": "P4csbj-Va19x"
    },
    {
      "cell_type": "code",
      "source": [
        "print(data.isnull().sum())\n",
        "#Checking number of spam and non_spam mails\n",
        "print(data['spam'].value_counts())"
      ],
      "metadata": {
        "colab": {
          "base_uri": "https://localhost:8080/"
        },
        "id": "dWy9NfMGPNAa",
        "outputId": "236d58ed-92f8-4063-dd04-1322c4d117bc"
      },
      "id": "dWy9NfMGPNAa",
      "execution_count": 5,
      "outputs": [
        {
          "output_type": "stream",
          "name": "stdout",
          "text": [
            "text    0\n",
            "spam    0\n",
            "dtype: int64\n",
            "0    4360\n",
            "1    1368\n",
            "Name: spam, dtype: int64\n"
          ]
        }
      ]
    },
    {
      "cell_type": "markdown",
      "id": "d22efcb2",
      "metadata": {
        "papermill": {
          "duration": 0.005675,
          "end_time": "2022-09-23T14:31:47.130404",
          "exception": false,
          "start_time": "2022-09-23T14:31:47.124729",
          "status": "completed"
        },
        "tags": [],
        "id": "d22efcb2"
      },
      "source": [
        "# Feature Engineering\n"
      ]
    },
    {
      "cell_type": "code",
      "execution_count": 6,
      "id": "06df6992",
      "metadata": {
        "execution": {
          "iopub.execute_input": "2022-09-23T14:31:47.149651Z",
          "iopub.status.busy": "2022-09-23T14:31:47.149097Z",
          "iopub.status.idle": "2022-09-23T14:31:48.336947Z",
          "shell.execute_reply": "2022-09-23T14:31:48.335543Z"
        },
        "papermill": {
          "duration": 1.200636,
          "end_time": "2022-09-23T14:31:48.340196",
          "exception": false,
          "start_time": "2022-09-23T14:31:47.139560",
          "status": "completed"
        },
        "tags": [],
        "colab": {
          "base_uri": "https://localhost:8080/"
        },
        "id": "06df6992",
        "outputId": "be0d1e32-9228-4eea-d2b8-d85f4c433694"
      },
      "outputs": [
        {
          "output_type": "execute_result",
          "data": {
            "text/plain": [
              "<5728x37303 sparse matrix of type '<class 'numpy.int64'>'\n",
              "\twith 708380 stored elements in Compressed Sparse Row format>"
            ]
          },
          "metadata": {},
          "execution_count": 6
        }
      ],
      "source": [
        "from sklearn.feature_extraction.text import CountVectorizer\n",
        "vector = CountVectorizer()\n",
        "vector.fit_transform(data.text)"
      ]
    },
    {
      "cell_type": "markdown",
      "id": "1d4aa54f",
      "metadata": {
        "papermill": {
          "duration": 0.005633,
          "end_time": "2022-09-23T14:31:48.351953",
          "exception": false,
          "start_time": "2022-09-23T14:31:48.346320",
          "status": "completed"
        },
        "tags": [],
        "id": "1d4aa54f"
      },
      "source": [
        "### Define X and Y"
      ]
    },
    {
      "cell_type": "code",
      "execution_count": 7,
      "id": "977fcd97",
      "metadata": {
        "execution": {
          "iopub.execute_input": "2022-09-23T14:31:48.365845Z",
          "iopub.status.busy": "2022-09-23T14:31:48.365381Z",
          "iopub.status.idle": "2022-09-23T14:31:49.340416Z",
          "shell.execute_reply": "2022-09-23T14:31:49.337719Z"
        },
        "papermill": {
          "duration": 0.986033,
          "end_time": "2022-09-23T14:31:49.343891",
          "exception": false,
          "start_time": "2022-09-23T14:31:48.357858",
          "status": "completed"
        },
        "tags": [],
        "id": "977fcd97"
      },
      "outputs": [],
      "source": [
        "X = vector.fit_transform(data.text)\n",
        "Y = data.spam.values"
      ]
    },
    {
      "cell_type": "markdown",
      "id": "e822e269",
      "metadata": {
        "papermill": {
          "duration": 0.005518,
          "end_time": "2022-09-23T14:31:49.355830",
          "exception": false,
          "start_time": "2022-09-23T14:31:49.350312",
          "status": "completed"
        },
        "tags": [],
        "id": "e822e269"
      },
      "source": [
        "# Division of data in training and testing set"
      ]
    },
    {
      "cell_type": "code",
      "execution_count": 8,
      "id": "2515bad8",
      "metadata": {
        "execution": {
          "iopub.execute_input": "2022-09-23T14:31:49.369691Z",
          "iopub.status.busy": "2022-09-23T14:31:49.369204Z",
          "iopub.status.idle": "2022-09-23T14:31:49.452032Z",
          "shell.execute_reply": "2022-09-23T14:31:49.449913Z"
        },
        "papermill": {
          "duration": 0.093541,
          "end_time": "2022-09-23T14:31:49.455257",
          "exception": false,
          "start_time": "2022-09-23T14:31:49.361716",
          "status": "completed"
        },
        "tags": [],
        "id": "2515bad8"
      },
      "outputs": [],
      "source": [
        "from sklearn.model_selection import train_test_split\n",
        "xtrain,xtest,ytrain,ytest = train_test_split(X,Y,test_size=0.3,random_state=101)"
      ]
    },
    {
      "cell_type": "markdown",
      "source": [
        "# Model 1 - Gaussian Naive Bayes - using training and testing split"
      ],
      "metadata": {
        "id": "DmO_2LX8SfIo"
      },
      "id": "DmO_2LX8SfIo"
    },
    {
      "cell_type": "code",
      "source": [
        "from sklearn.naive_bayes import GaussianNB\n",
        "mnb1 = GaussianNB()\n",
        "model1 = mnb1.fit(xtrain.toarray(),ytrain)\n",
        "tr_pred = model1.predict(xtrain.toarray())\n",
        "ts_pred = model1.predict(xtest.toarray())"
      ],
      "metadata": {
        "id": "JBeGKD1-QN3N"
      },
      "id": "JBeGKD1-QN3N",
      "execution_count": 9,
      "outputs": []
    },
    {
      "cell_type": "code",
      "source": [
        "from sklearn.metrics import classification_report\n",
        "print(\"\\n=========Training==========\")\n",
        "print(classification_report(ytrain,tr_pred))\n",
        "print(\"=========Testing==========\")\n",
        "print(classification_report(ytest,ts_pred))"
      ],
      "metadata": {
        "colab": {
          "base_uri": "https://localhost:8080/"
        },
        "id": "0kvQtWLLQN6Y",
        "outputId": "2142272d-1dea-4e86-f8f9-3380ae7fdd3a"
      },
      "id": "0kvQtWLLQN6Y",
      "execution_count": 10,
      "outputs": [
        {
          "output_type": "stream",
          "name": "stdout",
          "text": [
            "\n",
            "=========Training==========\n",
            "              precision    recall  f1-score   support\n",
            "\n",
            "           0       1.00      1.00      1.00      3046\n",
            "           1       0.99      1.00      0.99       963\n",
            "\n",
            "    accuracy                           1.00      4009\n",
            "   macro avg       0.99      1.00      1.00      4009\n",
            "weighted avg       1.00      1.00      1.00      4009\n",
            "\n",
            "=========Testing==========\n",
            "              precision    recall  f1-score   support\n",
            "\n",
            "           0       0.97      0.99      0.98      1314\n",
            "           1       0.97      0.90      0.93       405\n",
            "\n",
            "    accuracy                           0.97      1719\n",
            "   macro avg       0.97      0.94      0.96      1719\n",
            "weighted avg       0.97      0.97      0.97      1719\n",
            "\n"
          ]
        }
      ]
    },
    {
      "cell_type": "code",
      "source": [
        "from sklearn.metrics import confusion_matrix, ConfusionMatrixDisplay\n",
        "cm = confusion_matrix(ytest, ts_pred, labels=mnb1.classes_)\n",
        "disp = ConfusionMatrixDisplay(confusion_matrix=cm, display_labels=mnb1.classes_)\n",
        "disp.plot()"
      ],
      "metadata": {
        "colab": {
          "base_uri": "https://localhost:8080/",
          "height": 466
        },
        "id": "Iyq_yVgEQN9R",
        "outputId": "7c61ea93-2cfc-4719-a038-e26b1ac021f4"
      },
      "id": "Iyq_yVgEQN9R",
      "execution_count": 11,
      "outputs": [
        {
          "output_type": "execute_result",
          "data": {
            "text/plain": [
              "<sklearn.metrics._plot.confusion_matrix.ConfusionMatrixDisplay at 0x79ab2cf48880>"
            ]
          },
          "metadata": {},
          "execution_count": 11
        },
        {
          "output_type": "display_data",
          "data": {
            "text/plain": [
              "<Figure size 640x480 with 2 Axes>"
            ],
            "image/png": "[encoded data removed]"
          },
          "metadata": {}
        }
      ]
    },
    {
      "cell_type": "code",
      "source": [
        "from sklearn.metrics import accuracy_score\n",
        "print(\"=========Accuracy==========\")\n",
        "print(f\"{accuracy_score(ytest, ts_pred)*100:.2f}%\")"
      ],
      "metadata": {
        "colab": {
          "base_uri": "https://localhost:8080/"
        },
        "id": "eH-0Zg5NcULh",
        "outputId": "9ad06987-d673-4fa6-ec02-1c00b24d4045"
      },
      "id": "eH-0Zg5NcULh",
      "execution_count": 12,
      "outputs": [
        {
          "output_type": "stream",
          "name": "stdout",
          "text": [
            "=========Accuracy==========\n",
            "96.92%\n"
          ]
        }
      ]
    },
    {
      "cell_type": "markdown",
      "id": "797839e4",
      "metadata": {
        "papermill": {
          "duration": 0.005555,
          "end_time": "2022-09-23T14:31:49.466800",
          "exception": false,
          "start_time": "2022-09-23T14:31:49.461245",
          "status": "completed"
        },
        "tags": [],
        "id": "797839e4"
      },
      "source": [
        "# Model 2 - Multinomial Naive Bayes - using training and testing split"
      ]
    },
    {
      "cell_type": "code",
      "execution_count": 13,
      "id": "254b6a90",
      "metadata": {
        "execution": {
          "iopub.execute_input": "2022-09-23T14:31:49.480568Z",
          "iopub.status.busy": "2022-09-23T14:31:49.480074Z",
          "iopub.status.idle": "2022-09-23T14:31:49.709228Z",
          "shell.execute_reply": "2022-09-23T14:31:49.707673Z"
        },
        "papermill": {
          "duration": 0.23896,
          "end_time": "2022-09-23T14:31:49.711635",
          "exception": false,
          "start_time": "2022-09-23T14:31:49.472675",
          "status": "completed"
        },
        "tags": [],
        "id": "254b6a90"
      },
      "outputs": [],
      "source": [
        "from sklearn.naive_bayes import MultinomialNB\n",
        "mnb2 = MultinomialNB()\n",
        "model2 = mnb2.fit(xtrain,ytrain)\n",
        "tr_pred = model2.predict(xtrain)\n",
        "ts_pred = model2.predict(xtest)"
      ]
    },
    {
      "cell_type": "code",
      "execution_count": 14,
      "id": "8fc9386a",
      "metadata": {
        "execution": {
          "iopub.execute_input": "2022-09-23T14:31:49.726579Z",
          "iopub.status.busy": "2022-09-23T14:31:49.726067Z",
          "iopub.status.idle": "2022-09-23T14:31:49.918290Z",
          "shell.execute_reply": "2022-09-23T14:31:49.917414Z"
        },
        "papermill": {
          "duration": 0.202708,
          "end_time": "2022-09-23T14:31:49.920701",
          "exception": false,
          "start_time": "2022-09-23T14:31:49.717993",
          "status": "completed"
        },
        "tags": [],
        "colab": {
          "base_uri": "https://localhost:8080/"
        },
        "id": "8fc9386a",
        "outputId": "6997d05e-1f0a-4110-ace1-91388518e7ed"
      },
      "outputs": [
        {
          "output_type": "stream",
          "name": "stdout",
          "text": [
            "\n",
            "=========Training==========\n",
            "              precision    recall  f1-score   support\n",
            "\n",
            "           0       1.00      1.00      1.00      3046\n",
            "           1       0.99      1.00      1.00       963\n",
            "\n",
            "    accuracy                           1.00      4009\n",
            "   macro avg       1.00      1.00      1.00      4009\n",
            "weighted avg       1.00      1.00      1.00      4009\n",
            "\n",
            "=========Testing==========\n",
            "              precision    recall  f1-score   support\n",
            "\n",
            "           0       1.00      0.99      1.00      1314\n",
            "           1       0.97      1.00      0.98       405\n",
            "\n",
            "    accuracy                           0.99      1719\n",
            "   macro avg       0.99      0.99      0.99      1719\n",
            "weighted avg       0.99      0.99      0.99      1719\n",
            "\n"
          ]
        }
      ],
      "source": [
        "from sklearn.metrics import classification_report\n",
        "print(\"\\n=========Training==========\")\n",
        "print(classification_report(ytrain,tr_pred))\n",
        "print(\"=========Testing==========\")\n",
        "print(classification_report(ytest,ts_pred))"
      ]
    },
    {
      "cell_type": "code",
      "source": [
        "from sklearn.metrics import confusion_matrix, ConfusionMatrixDisplay\n",
        "cm = confusion_matrix(ytest, ts_pred, labels=mnb2.classes_)\n",
        "disp = ConfusionMatrixDisplay(confusion_matrix=cm, display_labels=mnb2.classes_)\n",
        "disp.plot()"
      ],
      "metadata": {
        "colab": {
          "base_uri": "https://localhost:8080/",
          "height": 466
        },
        "id": "P-zwFuDXRqjA",
        "outputId": "08ffb616-a90b-47c0-e444-3c40c6fbfbbd"
      },
      "id": "P-zwFuDXRqjA",
      "execution_count": 15,
      "outputs": [
        {
          "output_type": "execute_result",
          "data": {
            "text/plain": [
              "<sklearn.metrics._plot.confusion_matrix.ConfusionMatrixDisplay at 0x79aae3330fa0>"
            ]
          },
          "metadata": {},
          "execution_count": 15
        },
        {
          "output_type": "display_data",
          "data": {
            "text/plain": [
              "<Figure size 640x480 with 2 Axes>"
            ],
            "image/png": "[encoded data removed]"
          },
          "metadata": {}
        }
      ]
    },
    {
      "cell_type": "code",
      "source": [
        "from sklearn.metrics import accuracy_score\n",
        "print(\"=========Accuracy==========\")\n",
        "print(f\"{accuracy_score(ytest, ts_pred)*100:.2f}%\")"
      ],
      "metadata": {
        "colab": {
          "base_uri": "https://localhost:8080/"
        },
        "id": "-Zbd4M2zdPcK",
        "outputId": "918d7d8e-90e6-4374-daae-0bb232ac29a0"
      },
      "id": "-Zbd4M2zdPcK",
      "execution_count": 16,
      "outputs": [
        {
          "output_type": "stream",
          "name": "stdout",
          "text": [
            "=========Accuracy==========\n",
            "99.24%\n"
          ]
        }
      ]
    },
    {
      "cell_type": "markdown",
      "source": [
        "# Model 3 - Decision Tree Classifier - using training and testing split"
      ],
      "metadata": {
        "id": "qMBrP4xiT6k4"
      },
      "id": "qMBrP4xiT6k4"
    },
    {
      "cell_type": "code",
      "source": [
        "from sklearn.tree import DecisionTreeClassifier\n",
        "model3=DecisionTreeClassifier()\n",
        "model3.fit(xtrain,ytrain)\n",
        "tr_pred=model3.predict(xtrain)\n",
        "ts_pred=model3.predict(xtest)"
      ],
      "metadata": {
        "id": "aY7NqOy2RqpD"
      },
      "id": "aY7NqOy2RqpD",
      "execution_count": 17,
      "outputs": []
    },
    {
      "cell_type": "code",
      "source": [
        "from sklearn.metrics import classification_report\n",
        "print(\"\\n=========Training==========\")\n",
        "print(classification_report(ytrain,tr_pred))\n",
        "print(\"=========Testing==========\")\n",
        "print(classification_report(ytest,ts_pred))"
      ],
      "metadata": {
        "colab": {
          "base_uri": "https://localhost:8080/"
        },
        "id": "LeQoZ2giUH9Z",
        "outputId": "2b44bd6e-bca9-4496-8293-7eddbc36aad3"
      },
      "id": "LeQoZ2giUH9Z",
      "execution_count": 18,
      "outputs": [
        {
          "output_type": "stream",
          "name": "stdout",
          "text": [
            "\n",
            "=========Training==========\n",
            "              precision    recall  f1-score   support\n",
            "\n",
            "           0       1.00      1.00      1.00      3046\n",
            "           1       1.00      1.00      1.00       963\n",
            "\n",
            "    accuracy                           1.00      4009\n",
            "   macro avg       1.00      1.00      1.00      4009\n",
            "weighted avg       1.00      1.00      1.00      4009\n",
            "\n",
            "=========Testing==========\n",
            "              precision    recall  f1-score   support\n",
            "\n",
            "           0       0.98      0.96      0.97      1314\n",
            "           1       0.88      0.94      0.91       405\n",
            "\n",
            "    accuracy                           0.96      1719\n",
            "   macro avg       0.93      0.95      0.94      1719\n",
            "weighted avg       0.96      0.96      0.96      1719\n",
            "\n"
          ]
        }
      ]
    },
    {
      "cell_type": "code",
      "source": [
        "from sklearn.metrics import confusion_matrix, ConfusionMatrixDisplay\n",
        "cm = confusion_matrix(ytest, ts_pred, labels=model3.classes_)\n",
        "disp = ConfusionMatrixDisplay(confusion_matrix=cm, display_labels=model3.classes_)\n",
        "disp.plot()"
      ],
      "metadata": {
        "colab": {
          "base_uri": "https://localhost:8080/",
          "height": 466
        },
        "id": "cssNEVSRUIAh",
        "outputId": "413bb3a3-675a-49cd-9e50-a6e8b6cabc52"
      },
      "id": "cssNEVSRUIAh",
      "execution_count": 19,
      "outputs": [
        {
          "output_type": "execute_result",
          "data": {
            "text/plain": [
              "<sklearn.metrics._plot.confusion_matrix.ConfusionMatrixDisplay at 0x79aae1ebab90>"
            ]
          },
          "metadata": {},
          "execution_count": 19
        },
        {
          "output_type": "display_data",
          "data": {
            "text/plain": [
              "<Figure size 640x480 with 2 Axes>"
            ],
            "image/png": "[encoded data removed]"
          },
          "metadata": {}
        }
      ]
    },
    {
      "cell_type": "code",
      "source": [
        "from sklearn.metrics import accuracy_score\n",
        "print(\"=========Accuracy==========\")\n",
        "print(f\"{accuracy_score(ytest, ts_pred)*100:.2f}%\")"
      ],
      "metadata": {
        "colab": {
          "base_uri": "https://localhost:8080/"
        },
        "id": "x4YO-kEFam9I",
        "outputId": "a23dad5a-7e1a-42a7-c31f-2d74669ac17c"
      },
      "id": "x4YO-kEFam9I",
      "execution_count": 20,
      "outputs": [
        {
          "output_type": "stream",
          "name": "stdout",
          "text": [
            "=========Accuracy==========\n",
            "95.52%\n"
          ]
        }
      ]
    },
    {
      "cell_type": "markdown",
      "source": [
        "#Conclusion\n",
        "\n",
        "##In conclusion, the email spam detection models were evaluated, and the following accuracy scores were obtained:\n",
        "\n",
        "###(1) Gaussian Naive Bayes: 96.92%\n",
        "###(2) Multinomial Naive Bayes: 99.24%\n",
        "###(3) Decision Tree Classifier: 95.52%\n",
        "\n",
        "##The Multinomial Naive Bayes model demonstrated the highest accuracy at 99.24%, making it the most effective among the models tested."
      ],
      "metadata": {
        "id": "oqIZ0PW-dWtq"
      },
      "id": "oqIZ0PW-dWtq"
    },
    {
      "cell_type": "code",
      "source": [],
      "metadata": {
        "id": "KU4C3BEledCI"
      },
      "id": "KU4C3BEledCI",
      "execution_count": 20,
      "outputs": []
    }
  ],
  "metadata": {
    "kernelspec": {
      "display_name": "Python 3",
      "language": "python",
      "name": "python3"
    },
    "language_info": {
      "codemirror_mode": {
        "name": "ipython",
        "version": 3
      },
      "file_extension": ".py",
      "mimetype": "text/x-python",
      "name": "python",
      "nbconvert_exporter": "python",
      "pygments_lexer": "ipython3",
      "version": "3.7.12"
    },
    "papermill": {
      "default_parameters": {},
      "duration": 17.343274,
      "end_time": "2022-09-23T14:31:52.975498",
      "environment_variables": {},
      "exception": null,
      "input_path": "__notebook__.ipynb",
      "output_path": "__notebook__.ipynb",
      "parameters": {},
      "start_time": "2022-09-23T14:31:35.632224",
      "version": "2.3.4"
    },
    "colab": {
      "provenance": []
    }
  },
  "nbformat": 4,
  "nbformat_minor": 5
}