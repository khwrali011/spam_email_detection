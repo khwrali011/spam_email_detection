{
  "cells": [
    {
      "cell_type": "code",
      "execution_count": 32,
      "metadata": {
        "id": "3fuRE71LaPCA"
      },
      "outputs": [],
      "source": [
        "import nltk\n",
        "import pdb\n",
        "from nltk.corpus import stopwords\n",
        "import numpy as np\n",
        "import pandas as pd\n",
        "import string\n",
        "from nltk.tokenize import TweetTokenizer\n",
        "from os import getcwd\n",
        "from utils import process_tweet, lookup"
      ]
    },
    {
      "cell_type": "code",
      "source": [
        "nltk.download('stopwords')"
      ],
      "metadata": {
        "colab": {
          "base_uri": "https://localhost:8080/"
        },
        "id": "h8sgBs1lasty",
        "outputId": "0d6fe125-5a8e-4c21-bf4d-ed9214e54e2a"
      },
      "execution_count": 2,
      "outputs": [
        {
          "output_type": "stream",
          "name": "stderr",
          "text": [
            "[nltk_data] Downloading package stopwords to /root/nltk_data...\n",
            "[nltk_data]   Unzipping corpora/stopwords.zip.\n"
          ]
        },
        {
          "output_type": "execute_result",
          "data": {
            "text/plain": [
              "True"
            ]
          },
          "metadata": {},
          "execution_count": 2
        }
      ]
    },
    {
      "cell_type": "code",
      "source": [
        "!pip install opendatasets -q"
      ],
      "metadata": {
        "id": "yLJUwUI7E-c-"
      },
      "execution_count": 3,
      "outputs": []
    },
    {
      "cell_type": "code",
      "source": [
        "import opendatasets as od\n",
        "#{\"username\":\"khwrali\",\"key\":\"a2b23dfbac2443ab4db34e48318ce4ff\"}\n",
        "od.download(\"https://www.kaggle.com/datasets/karthickveerakumar/spam-filter\")"
      ],
      "metadata": {
        "colab": {
          "base_uri": "https://localhost:8080/"
        },
        "id": "ufVfynSsdNvv",
        "outputId": "5d45ed56-4c5f-4754-ded6-3ed7ad03df85"
      },
      "execution_count": 4,
      "outputs": [
        {
          "output_type": "stream",
          "name": "stdout",
          "text": [
            "Please provide your Kaggle credentials to download this dataset. Learn more: http://bit.ly/kaggle-creds\n",
            "Your Kaggle username: khwrali\n",
            "Your Kaggle Key: ··········\n",
            "Downloading spam-filter.zip to ./spam-filter\n"
          ]
        },
        {
          "output_type": "stream",
          "name": "stderr",
          "text": [
            "100%|██████████| 2.86M/2.86M [00:00<00:00, 41.2MB/s]"
          ]
        },
        {
          "output_type": "stream",
          "name": "stdout",
          "text": [
            "\n"
          ]
        },
        {
          "output_type": "stream",
          "name": "stderr",
          "text": [
            "\n"
          ]
        }
      ]
    },
    {
      "cell_type": "code",
      "source": [
        "df=pd.read_csv('/content/spam-filter/emails.csv')\n",
        "print(df.head(2))\n",
        "#Checking Missing values\n",
        "print(df.isnull().sum())\n",
        "#Checking number of spam and non_spam mails\n",
        "print(df['spam'].value_counts())"
      ],
      "metadata": {
        "colab": {
          "base_uri": "https://localhost:8080/"
        },
        "id": "ohVX25YTgyBS",
        "outputId": "e344e762-481c-4cc1-c6db-28552a232fe2"
      },
      "execution_count": 14,
      "outputs": [
        {
          "output_type": "stream",
          "name": "stdout",
          "text": [
            "                                                text  spam\n",
            "0  Subject: naturally irresistible your corporate...     1\n",
            "1  Subject: the stock trading gunslinger  fanny i...     1\n",
            "text    0\n",
            "spam    0\n",
            "dtype: int64\n",
            "0    4360\n",
            "1    1368\n",
            "Name: spam, dtype: int64\n"
          ]
        }
      ]
    },
    {
      "cell_type": "code",
      "source": [
        "print(df[['text', 'spam']].sample(10))"
      ],
      "metadata": {
        "colab": {
          "base_uri": "https://localhost:8080/"
        },
        "id": "B9q36jfxkX4s",
        "outputId": "995787a9-8c6a-4cab-d8e5-f765e2190127"
      },
      "execution_count": 15,
      "outputs": [
        {
          "output_type": "stream",
          "name": "stdout",
          "text": [
            "                                                   text  spam\n",
            "1639  Subject: rodrigo lamas - best wishes  i would ...     0\n",
            "89    Subject: i think you might be interested  hell...     1\n",
            "24    Subject: rely on us for your online prescripti...     1\n",
            "1569  Subject: re : yo !  vince ,  here is a little ...     0\n",
            "4717  Subject: 21 st annual energy symposium - novem...     0\n",
            "2369  Subject: re : mscf speaker series  pierre - ph...     0\n",
            "3043  Subject: a resume for your consideration  vinc...     0\n",
            "3629  Subject: re : confirmation of meeting  i would...     0\n",
            "1602  Subject: texas a & m at galveston  dr . bill m...     0\n",
            "2487  Subject: eol trade size discrepancies  vince -...     0\n"
          ]
        }
      ]
    },
    {
      "cell_type": "code",
      "source": [
        "# Initialize two empty lists to store spam and non_spam mails\n",
        "spam = []\n",
        "non_spam = []\n",
        "\n",
        "# Iterate through the DataFrame and separate reviews based on sentiment\n",
        "for _, row in df.iterrows():\n",
        "    if row['spam'] == 1:\n",
        "        spam.append(row['text'])\n",
        "    elif row['spam'] == 0:\n",
        "        non_spam.append(row['text'])\n",
        "\n",
        "# Print or use the positive_reviews and negative_reviews lists as needed\n",
        "print(\"Spam Mails:\")\n",
        "print(spam[:1])\n",
        "\n",
        "\n",
        "print(\"\\nNon_Spam Mails:\")\n",
        "print(non_spam[:1])"
      ],
      "metadata": {
        "colab": {
          "base_uri": "https://localhost:8080/"
        },
        "id": "iDAuQkTlkX67",
        "outputId": "8efde82f-0d72-454e-ca48-fcf5ac751673"
      },
      "execution_count": 16,
      "outputs": [
        {
          "output_type": "stream",
          "name": "stdout",
          "text": [
            "Spam Mails:\n",
            "[\"Subject: naturally irresistible your corporate identity  lt is really hard to recollect a company : the  market is full of suqgestions and the information isoverwhelminq ; but a good  catchy logo , stylish statlonery and outstanding website  will make the task much easier .  we do not promise that havinq ordered a iogo your  company will automaticaily become a world ieader : it isguite ciear that  without good products , effective business organization and practicable aim it  will be hotat nowadays market ; but we do promise that your marketing efforts  will become much more effective . here is the list of clear  benefits : creativeness : hand - made , original logos , specially done  to reflect your distinctive company image . convenience : logo and stationery  are provided in all formats ; easy - to - use content management system letsyou  change your website content and even its structure . promptness : you  will see logo drafts within three business days . affordability : your  marketing break - through shouldn ' t make gaps in your budget . 100 % satisfaction  guaranteed : we provide unlimited amount of changes with no extra fees for you to  be surethat you will love the result of this collaboration . have a look at our  portfolio _ _ _ _ _ _ _ _ _ _ _ _ _ _ _ _ _ _ _ _ _ _ _ _ _ _ _ _ _ _ _ _ _ _ _ _ _ _ _ _ _ _ _ _ _ _ _ _ _ _ _ _ not interested . . . _ _ _ _ _ _ _ _ _ _ _ _ _ _ _ _ _ _ _ _ _ _ _ _ _ _ _ _ _ _ _ _ _ _ _ _ _ _ _ _ _ _ _ _ _ _ _ _ _ _ _ _\"]\n",
            "\n",
            "Non_Spam Mails:\n",
            "['Subject: hello guys ,  i \\' m \" bugging you \" for your completed questionnaire and for a one - page  bio / statement on your thoughts on \" business edu and the new economy \" . if  my records are incorrect please re - ship your responses to me . i want to  put everything together next week so that i can ship it back to everyone .  the questionnaire is attached as well as copies of the bio pages for  michael froehls and myself ( two somewhat different approaches ) . the idea  of the latter is just to introduce yourself to the other panelists and give  them some background on how you are approaching the issues we will discuss .  we will also provide copies to the attendees and use this material for our  personal introductions at the opening of the panel discussions .  thanks and i look forward to seeing you in two weeks .  john  - waco _ background _ mf . doc  - jmartinbiosketch . doc  - questionnaire . doc  john d . martin  carr p . collins chair in finance  finance department  baylor university  po box 98004  waco , tx 76798  254 - 710 - 4473 ( office )  254 - 710 - 1092 ( fax )  j _ martin @ baylor . edu  web : http : / / hsb . baylor . edu / html / martinj / home . html']\n"
          ]
        }
      ]
    },
    {
      "cell_type": "code",
      "source": [
        "print(len(spam))\n",
        "print(len(non_spam))"
      ],
      "metadata": {
        "colab": {
          "base_uri": "https://localhost:8080/"
        },
        "id": "qIUXnnXToSx3",
        "outputId": "8abb4023-d790-4db1-e28b-9392f79926ef"
      },
      "execution_count": 17,
      "outputs": [
        {
          "output_type": "stream",
          "name": "stdout",
          "text": [
            "1368\n",
            "4360\n"
          ]
        }
      ]
    },
    {
      "cell_type": "code",
      "source": [
        "# split the data into two pieces, one for training and one for testing (validation set)\n",
        "test_spam = spam[1200:]\n",
        "train_spam = spam[:1200]\n",
        "test_non_spam = non_spam[4000:]\n",
        "train_non_spam = non_spam[:4000]\n",
        "\n",
        "train_x = train_spam + train_non_spam\n",
        "test_x = test_spam + test_non_spam"
      ],
      "metadata": {
        "id": "JYLXHuozoSzX"
      },
      "execution_count": 19,
      "outputs": []
    },
    {
      "cell_type": "code",
      "source": [
        "train_y = np.append(np.ones(len(train_spam)), np.zeros(len(train_non_spam)))\n",
        "test_y = np.append(np.ones(len(test_spam)), np.zeros(len(test_non_spam)))"
      ],
      "metadata": {
        "id": "nLlMxam5oS1D"
      },
      "execution_count": 20,
      "outputs": []
    },
    {
      "cell_type": "code",
      "source": [
        "def count_mails(result, mails, ys):\n",
        "    for y, mail in zip(ys, mails):\n",
        "        for word in process_tweet(mail):\n",
        "            pair = (word,y)\n",
        "            if pair in result:\n",
        "                result[pair] += 1\n",
        "            else:\n",
        "                result[pair] = 1\n",
        "    return result"
      ],
      "metadata": {
        "id": "TMMSwTTpoS27"
      },
      "execution_count": 24,
      "outputs": []
    },
    {
      "cell_type": "code",
      "source": [
        "freqs = count_mails({}, train_x, train_y)"
      ],
      "metadata": {
        "id": "vm1cr2QKoS40"
      },
      "execution_count": 25,
      "outputs": []
    },
    {
      "cell_type": "code",
      "source": [
        "def train_naive_bayes(freqs, train_x, train_y):\n",
        "    loglikelihood = {}\n",
        "    logprior = 0\n",
        "    vocab = set([pair[0] for pair in freqs.keys()])\n",
        "    V = len(vocab)\n",
        "    N_pos = N_neg = V_pos = V_neg = 0\n",
        "    for pair in freqs.keys():\n",
        "        if pair[1] > 0:\n",
        "            V_pos += 1\n",
        "            N_pos += freqs[pair]\n",
        "        else:\n",
        "            V_neg += 1\n",
        "            N_neg += freqs[pair]\n",
        "    D = len(train_y)\n",
        "    D_pos = (len(list(filter(lambda x: x > 0, train_y))))\n",
        "    D_neg = (len(list(filter(lambda x: x <= 0, train_y))))\n",
        "    logprior = np.log(D_pos) - np.log(D_neg)\n",
        "    for word in vocab:\n",
        "        freq_pos = lookup(freqs,word,1)\n",
        "        freq_neg = lookup(freqs,word,0)\n",
        "        p_w_pos = (freq_pos + 1) / (N_pos + V)\n",
        "        p_w_neg = (freq_neg + 1) / (N_neg + V)\n",
        "        loglikelihood[word] = np.log(p_w_pos/p_w_neg)\n",
        "    return logprior, loglikelihood\n"
      ],
      "metadata": {
        "id": "rBewqN9EoS6n"
      },
      "execution_count": 26,
      "outputs": []
    },
    {
      "cell_type": "code",
      "source": [
        "logprior, loglikelihood = train_naive_bayes(freqs, train_x, train_y)\n",
        "print(logprior)\n",
        "print(len(loglikelihood))"
      ],
      "metadata": {
        "colab": {
          "base_uri": "https://localhost:8080/"
        },
        "id": "OdKfV5DXoS8O",
        "outputId": "d58e841d-68bd-48f9-c760-d97144eb07bb"
      },
      "execution_count": 27,
      "outputs": [
        {
          "output_type": "stream",
          "name": "stdout",
          "text": [
            "-1.203972804325936\n",
            "28083\n"
          ]
        }
      ]
    },
    {
      "cell_type": "code",
      "source": [
        "def naive_bayes_predict(mail, logprior, loglikelihood):\n",
        "    word_l = process_tweet(mail)\n",
        "    p = 0\n",
        "    p += logprior\n",
        "    for word in word_l:\n",
        "        if word in loglikelihood:\n",
        "            p += loglikelihood[word]\n",
        "    return p"
      ],
      "metadata": {
        "id": "ThiRxQl5oS-B"
      },
      "execution_count": 28,
      "outputs": []
    },
    {
      "cell_type": "code",
      "source": [
        "def test_naive_bayes(test_x, test_y, logprior, loglikelihood):\n",
        "    accuracy = 0\n",
        "    y_hats = []\n",
        "    for mail in test_x:\n",
        "        if naive_bayes_predict(mail, logprior, loglikelihood) > 0:\n",
        "            y_hat_i = 1\n",
        "        else:\n",
        "            y_hat_i = 0\n",
        "        y_hats.append(y_hat_i)\n",
        "    error = np.mean(np.absolute(y_hats-test_y))\n",
        "    accuracy = 1-error\n",
        "    return accuracy"
      ],
      "metadata": {
        "id": "tf55ueaPoTBl"
      },
      "execution_count": 29,
      "outputs": []
    },
    {
      "cell_type": "code",
      "source": [
        "print(\"Naive Bayes accuracy = %0.4f\" %(test_naive_bayes(test_x, test_y, logprior, loglikelihood)))"
      ],
      "metadata": {
        "colab": {
          "base_uri": "https://localhost:8080/"
        },
        "id": "g7SHK7X7oTEY",
        "outputId": "dc2c38ba-3e0f-4c9f-aafd-aacf4100975b"
      },
      "execution_count": 30,
      "outputs": [
        {
          "output_type": "stream",
          "name": "stdout",
          "text": [
            "Naive Bayes accuracy = 0.9905\n"
          ]
        }
      ]
    },
    {
      "cell_type": "code",
      "source": [
        "my_mail = \"Re: Machine Learning Internship - Khawar Ali applied on Indeed\"\n",
        "p = naive_bayes_predict(my_mail, logprior, loglikelihood)\n",
        "if p>0:\n",
        "  print(p,\"The mail is spam\")\n",
        "else:\n",
        "  print(p,\"The review is not spam\")"
      ],
      "metadata": {
        "colab": {
          "base_uri": "https://localhost:8080/"
        },
        "id": "Kwhv9rnQoS_q",
        "outputId": "20ba3702-df2d-4923-f406-45c85b976773"
      },
      "execution_count": 31,
      "outputs": [
        {
          "output_type": "stream",
          "name": "stdout",
          "text": [
            "-2.29814749847631 The review is not spam\n"
          ]
        }
      ]
    },
    {
      "cell_type": "code",
      "source": [],
      "metadata": {
        "id": "ij4-_rjC070S"
      },
      "execution_count": null,
      "outputs": []
    }
  ],
  "metadata": {
    "anaconda-cloud": {},
    "coursera": {
      "schema_names": [
        "NLPC1-2"
      ]
    },
    "kernelspec": {
      "display_name": "Python 3",
      "language": "python",
      "name": "python3"
    },
    "language_info": {
      "codemirror_mode": {
        "name": "ipython",
        "version": 3
      },
      "file_extension": ".py",
      "mimetype": "text/x-python",
      "name": "python",
      "nbconvert_exporter": "python",
      "pygments_lexer": "ipython3",
      "version": "3.7.1"
    },
    "colab": {
      "provenance": []
    }
  },
  "nbformat": 4,
  "nbformat_minor": 0
}